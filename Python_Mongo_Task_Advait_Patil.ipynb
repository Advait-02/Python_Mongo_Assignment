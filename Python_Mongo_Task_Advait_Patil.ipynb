{
 "cells": [
  {
   "cell_type": "code",
   "execution_count": 81,
   "id": "b9c92359-9ce1-4f68-8898-8fc2f9235018",
   "metadata": {},
   "outputs": [],
   "source": [
    "# Necessary Imports\n",
    "\n",
    "from pymongo import MongoClient\n",
    "from datetime import datetime\n",
    "from bson import ObjectId\n",
    "import warnings\n",
    "warnings.filterwarnings(\"ignore\")"
   ]
  },
  {
   "cell_type": "markdown",
   "id": "1bb7adf6-ed18-48cd-b1cb-c7723e1487dc",
   "metadata": {},
   "source": [
    "## Task – 1: Create a Python script to establish connection with MongoDB and set up a sample database.\n",
    "### Requirements\n",
    "* Connect to MongoDB (assume default localhost)</br>\n",
    "* Create a database called \"training_db\"</br>\n",
    "* Create a collection called \"employees\"</br>\n",
    "* Insert 5 sample employee records with fields: name, email, department, salary, join_date</br>\n"
   ]
  },
  {
   "cell_type": "code",
   "execution_count": 4,
   "id": "9b7b7bed-472a-42fc-b9f5-602c0a6f271c",
   "metadata": {},
   "outputs": [],
   "source": [
    "client = MongoClient(\"mongodb://localhost:27017/\")"
   ]
  },
  {
   "cell_type": "code",
   "execution_count": 5,
   "id": "9dc40559-0fe5-420c-a8f8-2267ac031e5a",
   "metadata": {},
   "outputs": [],
   "source": [
    "db = client[\"training_db\"]\n",
    "collection = db[\"employees\"]"
   ]
  },
  {
   "cell_type": "code",
   "execution_count": 17,
   "id": "46c2373c-30ff-43d6-af2a-85e3666b3f30",
   "metadata": {},
   "outputs": [],
   "source": [
    "emp_to_add = (\n",
    "    {\"name\":\"Advait\",\"email\":\"advait.patil@shipdelight.com\",\"department\":\"IT\",\"salary\":50000,\"join_date\":datetime(2025, 9, 8)},\n",
    "    {\"name\":\"member_1\",\"email\":\"member_1.patil@shipdelight.com\",\"department\":\"HR\",\"salary\":60000,\"join_date\":datetime(2024, 5, 22)},\n",
    "    {\"name\":\"member_2\",\"email\":\"member_2.patil@shipdelight.com\",\"department\":\"Sales\",\"salary\":45000,\"join_date\":datetime(2024, 7, 17)},\n",
    "    {\"name\":\"member_3\",\"email\":\"member_3.patil@shipdelight.com\",\"department\":\"IT\",\"salary\":40000,\"join_date\":datetime(2025, 11, 13)},\n",
    "    {\"name\":\"member_4\",\"email\":\"member_4.patil@shipdelight.com\",\"department\":\"IT\",\"salary\":70000,\"join_date\":datetime(2023, 12, 1)}\n",
    ")"
   ]
  },
  {
   "cell_type": "code",
   "execution_count": 18,
   "id": "a766ef67-ebdc-4c15-9676-c7e2cd26253b",
   "metadata": {},
   "outputs": [
    {
     "data": {
      "text/plain": [
       "InsertManyResult([ObjectId('68c3c79107ffff4cc7a9403c'), ObjectId('68c3c79107ffff4cc7a9403d'), ObjectId('68c3c79107ffff4cc7a9403e'), ObjectId('68c3c79107ffff4cc7a9403f'), ObjectId('68c3c79107ffff4cc7a94040')], acknowledged=True)"
      ]
     },
     "execution_count": 18,
     "metadata": {},
     "output_type": "execute_result"
    }
   ],
   "source": [
    "collection.insert_many(emp_to_add)"
   ]
  },
  {
   "cell_type": "code",
   "execution_count": 14,
   "id": "6584f884-427e-460f-86bf-1a5691073aad",
   "metadata": {},
   "outputs": [],
   "source": [
    "# collection.delete_many({})"
   ]
  },
  {
   "cell_type": "markdown",
   "id": "8ca47561-188f-4aa0-8daa-192a5d9e4035",
   "metadata": {},
   "source": [
    "# Task – 2: Implement various search and listing functionalities.\n",
    "### Requirements\n",
    "* List All Records: Function to display all employees\n",
    "* Search by Department: Find employees in specific department\n",
    "* Search by Salary Range: Find employees within salary range\n",
    "* Search by Name Pattern: Find employees whose names contain specific substring\n",
    "* Advanced Search: Combine multiple search criteria\n",
    "* Sort Results: Sort employees by salary (ascending/descending)\n",
    "* Limit Results: Implement pagination (limit and skip)"
   ]
  },
  {
   "cell_type": "markdown",
   "id": "ad6f2718-7799-481e-b9ea-b19604f2bf6e",
   "metadata": {},
   "source": [
    "### List All Records"
   ]
  },
  {
   "cell_type": "code",
   "execution_count": 20,
   "id": "e7ca3107-9076-4f2c-ab5f-17a716cd83ac",
   "metadata": {},
   "outputs": [],
   "source": [
    "for i in collection.find():\n",
    "    print(i)"
   ]
  },
  {
   "cell_type": "markdown",
   "id": "dd66634f-ac73-4f9d-a903-c3d72c4876ac",
   "metadata": {},
   "source": [
    "### Search by Department"
   ]
  },
  {
   "cell_type": "code",
   "execution_count": 27,
   "id": "ec2a1a66-9095-486c-be05-086c5837c7ed",
   "metadata": {},
   "outputs": [
    {
     "name": "stdin",
     "output_type": "stream",
     "text": [
      "enter department (IT,HR,Sales) Sales\n"
     ]
    },
    {
     "name": "stdout",
     "output_type": "stream",
     "text": [
      "{'_id': ObjectId('68c3c79107ffff4cc7a9403e'), 'name': 'member_2', 'email': 'member_2.patil@shipdelight.com', 'department': 'Sales', 'salary': 45000, 'join_date': datetime.datetime(2024, 7, 17, 0, 0)}\n"
     ]
    }
   ],
   "source": [
    "dep = input(\"enter department (IT,HR,Sales)\")\n",
    "\n",
    "result = collection.find({\"department\":dep})\n",
    "for i in result:\n",
    "    print(i)"
   ]
  },
  {
   "cell_type": "markdown",
   "id": "27f85ef5-7c9f-4d7f-9e47-be9cea7993e5",
   "metadata": {},
   "source": [
    "### Search by Salary Range"
   ]
  },
  {
   "cell_type": "code",
   "execution_count": 38,
   "id": "3073413a-2185-44f4-a5c1-9a44f8f4c345",
   "metadata": {},
   "outputs": [
    {
     "name": "stdin",
     "output_type": "stream",
     "text": [
      "enter range seprated by comma 40000,50000\n"
     ]
    },
    {
     "name": "stdout",
     "output_type": "stream",
     "text": [
      "{'_id': ObjectId('68c3c79107ffff4cc7a9403c'), 'name': 'Advait', 'email': 'advait.patil@shipdelight.com', 'department': 'IT', 'salary': 50000, 'join_date': datetime.datetime(2025, 9, 8, 0, 0)}\n",
      "{'_id': ObjectId('68c3c79107ffff4cc7a9403e'), 'name': 'member_2', 'email': 'member_2.patil@shipdelight.com', 'department': 'Sales', 'salary': 45000, 'join_date': datetime.datetime(2024, 7, 17, 0, 0)}\n",
      "{'_id': ObjectId('68c3c79107ffff4cc7a9403f'), 'name': 'member_3', 'email': 'member_3.patil@shipdelight.com', 'department': 'IT', 'salary': 40000, 'join_date': datetime.datetime(2025, 11, 13, 0, 0)}\n"
     ]
    }
   ],
   "source": [
    "a,b = input(\"enter range seprated by comma\").split(\",\")\n",
    "\n",
    "a = int(a)\n",
    "b = int(b)\n",
    "\n",
    "result = collection.find({\n",
    "    \"salary\":{\n",
    "        \"$gte\":a,\n",
    "        \"$lte\":b\n",
    "    }\n",
    "})\n",
    "\n",
    "for i in result:\n",
    "    print(i)"
   ]
  },
  {
   "cell_type": "markdown",
   "id": "1138bdd2-e3d0-445f-bda7-5df16a970e39",
   "metadata": {},
   "source": [
    "### Search by Name Pattern"
   ]
  },
  {
   "cell_type": "code",
   "execution_count": 42,
   "id": "d6a4181c-6f07-4cc7-9a55-9e616b06fde0",
   "metadata": {},
   "outputs": [
    {
     "name": "stdout",
     "output_type": "stream",
     "text": [
      "Employees whose name starts with A:\n",
      "{'_id': ObjectId('68c3c79107ffff4cc7a9403c'), 'name': 'Advait', 'email': 'advait.patil@shipdelight.com', 'department': 'IT', 'salary': 50000, 'join_date': datetime.datetime(2025, 9, 8, 0, 0)}\n"
     ]
    }
   ],
   "source": [
    "results = collection.find(\n",
    "    {\"name\": {\"$regex\": \"^A\"}}\n",
    ")\n",
    "\n",
    "print(\"Employees whose name starts with A:\")\n",
    "for i in results:\n",
    "    print(i)\n"
   ]
  },
  {
   "cell_type": "markdown",
   "id": "c0a2274e-2f1b-4c8e-b9a6-8f1ee6a3eb02",
   "metadata": {},
   "source": [
    "### Advanced Search"
   ]
  },
  {
   "cell_type": "code",
   "execution_count": 45,
   "id": "5d0ad941-8921-4be0-8a99-f77ac9070407",
   "metadata": {},
   "outputs": [
    {
     "name": "stdout",
     "output_type": "stream",
     "text": [
      "{'_id': ObjectId('68c3c79107ffff4cc7a9403c'), 'name': 'Advait', 'email': 'advait.patil@shipdelight.com', 'department': 'IT', 'salary': 50000, 'join_date': datetime.datetime(2025, 9, 8, 0, 0)}\n",
      "{'_id': ObjectId('68c3c79107ffff4cc7a94040'), 'name': 'member_4', 'email': 'member_4.patil@shipdelight.com', 'department': 'IT', 'salary': 70000, 'join_date': datetime.datetime(2023, 12, 1, 0, 0)}\n"
     ]
    }
   ],
   "source": [
    "query = {\n",
    "    \"$and\": [\n",
    "        {\"department\": \"IT\"},\n",
    "        {\"salary\": {\"$gte\": 45000, \"$lte\": 70000}}\n",
    "    ]\n",
    "}\n",
    "\n",
    "results = collection.find(query)\n",
    "for emp in results:\n",
    "    print(emp)"
   ]
  },
  {
   "cell_type": "markdown",
   "id": "b03a9f85-4a9e-43d8-9ca9-26a86d714bf3",
   "metadata": {},
   "source": [
    "### Sort Results"
   ]
  },
  {
   "cell_type": "code",
   "execution_count": 49,
   "id": "3f7718e8-20cf-49dc-87e7-c8a9a52f8201",
   "metadata": {},
   "outputs": [
    {
     "name": "stdout",
     "output_type": "stream",
     "text": [
      "{'_id': ObjectId('68c3c79107ffff4cc7a9403f'), 'name': 'member_3', 'email': 'member_3.patil@shipdelight.com', 'department': 'IT', 'salary': 40000, 'join_date': datetime.datetime(2025, 11, 13, 0, 0)}\n",
      "{'_id': ObjectId('68c3c79107ffff4cc7a9403e'), 'name': 'member_2', 'email': 'member_2.patil@shipdelight.com', 'department': 'Sales', 'salary': 45000, 'join_date': datetime.datetime(2024, 7, 17, 0, 0)}\n",
      "{'_id': ObjectId('68c3c79107ffff4cc7a9403c'), 'name': 'Advait', 'email': 'advait.patil@shipdelight.com', 'department': 'IT', 'salary': 50000, 'join_date': datetime.datetime(2025, 9, 8, 0, 0)}\n",
      "{'_id': ObjectId('68c3c79107ffff4cc7a9403d'), 'name': 'member_1', 'email': 'member_1.patil@shipdelight.com', 'department': 'HR', 'salary': 60000, 'join_date': datetime.datetime(2024, 5, 22, 0, 0)}\n",
      "{'_id': ObjectId('68c3c79107ffff4cc7a94040'), 'name': 'member_4', 'email': 'member_4.patil@shipdelight.com', 'department': 'IT', 'salary': 70000, 'join_date': datetime.datetime(2023, 12, 1, 0, 0)}\n"
     ]
    }
   ],
   "source": [
    "result = collection.find({}).sort(\"salary\",1)\n",
    "for i in result:\n",
    "    print(i)"
   ]
  },
  {
   "cell_type": "code",
   "execution_count": 50,
   "id": "5c84d367-59d5-410c-abde-2df1ddfb5c13",
   "metadata": {},
   "outputs": [
    {
     "name": "stdout",
     "output_type": "stream",
     "text": [
      "{'_id': ObjectId('68c3c79107ffff4cc7a9403f'), 'name': 'member_3', 'email': 'member_3.patil@shipdelight.com', 'department': 'IT', 'salary': 40000, 'join_date': datetime.datetime(2025, 11, 13, 0, 0)}\n",
      "{'_id': ObjectId('68c3c79107ffff4cc7a9403e'), 'name': 'member_2', 'email': 'member_2.patil@shipdelight.com', 'department': 'Sales', 'salary': 45000, 'join_date': datetime.datetime(2024, 7, 17, 0, 0)}\n",
      "{'_id': ObjectId('68c3c79107ffff4cc7a9403c'), 'name': 'Advait', 'email': 'advait.patil@shipdelight.com', 'department': 'IT', 'salary': 50000, 'join_date': datetime.datetime(2025, 9, 8, 0, 0)}\n",
      "{'_id': ObjectId('68c3c79107ffff4cc7a9403d'), 'name': 'member_1', 'email': 'member_1.patil@shipdelight.com', 'department': 'HR', 'salary': 60000, 'join_date': datetime.datetime(2024, 5, 22, 0, 0)}\n",
      "{'_id': ObjectId('68c3c79107ffff4cc7a94040'), 'name': 'member_4', 'email': 'member_4.patil@shipdelight.com', 'department': 'IT', 'salary': 70000, 'join_date': datetime.datetime(2023, 12, 1, 0, 0)}\n"
     ]
    }
   ],
   "source": [
    "result = collection.find({}).sort(\"salary\",1)\n",
    "for i in result:\n",
    "    print(i)"
   ]
  },
  {
   "cell_type": "markdown",
   "id": "a5c0e1d0-e6d4-492a-a0d2-26ed5aea190f",
   "metadata": {},
   "source": [
    "### Limit Results"
   ]
  },
  {
   "cell_type": "code",
   "execution_count": 59,
   "id": "112df01c-605b-4ad9-a623-50b81695c4da",
   "metadata": {},
   "outputs": [
    {
     "name": "stdout",
     "output_type": "stream",
     "text": [
      "Page No. 2 :\n",
      "{'_id': ObjectId('68c3c79107ffff4cc7a9403e'), 'name': 'member_2', 'email': 'member_2.patil@shipdelight.com', 'department': 'Sales', 'salary': 45000, 'join_date': datetime.datetime(2024, 7, 17, 0, 0)}\n",
      "{'_id': ObjectId('68c3c79107ffff4cc7a9403f'), 'name': 'member_3', 'email': 'member_3.patil@shipdelight.com', 'department': 'IT', 'salary': 40000, 'join_date': datetime.datetime(2025, 11, 13, 0, 0)}\n"
     ]
    }
   ],
   "source": [
    "page = 2\n",
    "page_size = 3\n",
    "\n",
    "result = collection.find({}).sort(\"salary\", -1).skip((page - 1) * page_size).limit(page_size)\n",
    "\n",
    "print(f\"Page No. {page} :\")\n",
    "\n",
    "for emp in result:\n",
    "    print(emp)"
   ]
  },
  {
   "cell_type": "markdown",
   "id": "755f7fbb-c221-4665-a6fa-b0d8a9f7f683",
   "metadata": {},
   "source": [
    "## Task -3\n",
    "## Implement functions to add new records with validation.\n",
    "### Requirements\n",
    "* Single Insert: Add one employee record\n",
    "* Bulk Insert: Add multiple employee records\n",
    "* Input Validation: Validate data before insertion\n",
    "* Duplicate Prevention: Prevent duplicate email addresses\n",
    "* Auto-generated Fields: Add created_at timestamp automatically"
   ]
  },
  {
   "cell_type": "markdown",
   "id": "4c39e150-f4cd-463c-ba68-9cf0a752c129",
   "metadata": {},
   "source": [
    "## Single Insert: Add one employee record"
   ]
  },
  {
   "cell_type": "code",
   "execution_count": 78,
   "id": "33ea5e06-9ac6-42eb-9713-24de1d47db16",
   "metadata": {},
   "outputs": [
    {
     "name": "stderr",
     "output_type": "stream",
     "text": [
      "C:\\Users\\Advait Patil\\AppData\\Local\\Temp\\ipykernel_22496\\3896719168.py:7: DeprecationWarning: datetime.datetime.utcnow() is deprecated and scheduled for removal in a future version. Use timezone-aware objects to represent datetimes in UTC: datetime.datetime.now(datetime.UTC).\n",
      "  \"created_at\": datetime.utcnow()\n"
     ]
    }
   ],
   "source": [
    "employee = {\n",
    "    \"name\": \"Member_5\",\n",
    "    \"email\": \"new.member@shipdelight.com\",\n",
    "    \"department\": \"Finance\",\n",
    "    \"salary\": 55000,\n",
    "    \"join_date\": datetime(2025, 9, 12),\n",
    "    \"created_at\": datetime.utcnow()\n",
    "}"
   ]
  },
  {
   "cell_type": "code",
   "execution_count": 79,
   "id": "3085e790-eaa1-45de-a026-e2b9a09027f2",
   "metadata": {},
   "outputs": [
    {
     "name": "stdout",
     "output_type": "stream",
     "text": [
      "InsertOneResult(ObjectId('68c3f97407ffff4cc7a94041'), acknowledged=True)\n"
     ]
    }
   ],
   "source": [
    "def add_emp(emp):\n",
    "    result = collection.insert_one(emp)\n",
    "    return result\n",
    "\n",
    "print(add_emp(employee))"
   ]
  },
  {
   "cell_type": "markdown",
   "id": "b2863c85-cb38-4e43-8b51-49a3f8be9fc7",
   "metadata": {},
   "source": [
    "## Bulk Insert: Add multiple employee records"
   ]
  },
  {
   "cell_type": "code",
   "execution_count": 82,
   "id": "242c4552-966b-4ccd-9fff-ee3e08e82ef2",
   "metadata": {},
   "outputs": [],
   "source": [
    "employees = [\n",
    "    {\n",
    "        \"name\": \"Member_6\",\n",
    "        \"email\": \"member6@shipdelight.com\",\n",
    "        \"department\": \"Finance\",\n",
    "        \"salary\": 55000,\n",
    "        \"join_date\": datetime(2025, 9, 12),\n",
    "        \"created_at\": datetime.utcnow()\n",
    "    },\n",
    "    {\n",
    "        \"name\": \"Member_7\",\n",
    "        \"email\": \"member7@shipdelight.com\",\n",
    "        \"department\": \"IT\",\n",
    "        \"salary\": 60000,\n",
    "        \"join_date\": datetime(2024, 5, 20),\n",
    "        \"created_at\": datetime.utcnow()\n",
    "    },\n",
    "    {\n",
    "        \"name\": \"Member_8\",\n",
    "        \"email\": \"member8@shipdelight.com\",\n",
    "        \"department\": \"Sales\",\n",
    "        \"salary\": 48000,\n",
    "        \"join_date\": datetime(2023, 11, 10),\n",
    "        \"created_at\": datetime.utcnow()\n",
    "    },\n",
    "    {\n",
    "        \"name\": \"Member_9\",\n",
    "        \"email\": \"member9@shipdelight.com\",\n",
    "        \"department\": \"HR\",\n",
    "        \"salary\": 52000,\n",
    "        \"join_date\": datetime(2022, 7, 1),\n",
    "        \"created_at\": datetime.utcnow()\n",
    "    },\n",
    "    {\n",
    "        \"name\": \"Member_10\",\n",
    "        \"email\": \"member10@shipdelight.com\",\n",
    "        \"department\": \"Marketing\",\n",
    "        \"salary\": 65000,\n",
    "        \"join_date\": datetime(2021, 3, 15),\n",
    "        \"created_at\": datetime.utcnow()\n",
    "    }\n",
    "]"
   ]
  },
  {
   "cell_type": "code",
   "execution_count": 100,
   "id": "5f525d1e-14ff-45f5-a072-95f543906f0f",
   "metadata": {},
   "outputs": [
    {
     "name": "stdout",
     "output_type": "stream",
     "text": [
      "Inserted: 68c3fbfd07ffff4cc7a94042\n",
      "Inserted: 68c3fbfd07ffff4cc7a94043\n",
      "Inserted: 68c3fbfd07ffff4cc7a94044\n",
      "Inserted: 68c3fbfd07ffff4cc7a94045\n",
      "Inserted: 68c3fbfd07ffff4cc7a94046\n"
     ]
    }
   ],
   "source": [
    "def add_emp(emp_list):\n",
    "    for emp in emp_list:\n",
    "        result = collection.insert_one(emp)\n",
    "        print(\"Inserted:\", result.inserted_id)\n",
    "\n",
    "add_emp(employees)"
   ]
  },
  {
   "cell_type": "code",
   "execution_count": 102,
   "id": "523eedc2-77a1-408c-8467-15bb0caeed13",
   "metadata": {},
   "outputs": [
    {
     "name": "stdout",
     "output_type": "stream",
     "text": [
      "Inserted IDs: [ObjectId('68c3fbfd07ffff4cc7a94042'), ObjectId('68c3fbfd07ffff4cc7a94043'), ObjectId('68c3fbfd07ffff4cc7a94044'), ObjectId('68c3fbfd07ffff4cc7a94045'), ObjectId('68c3fbfd07ffff4cc7a94046')]\n"
     ]
    }
   ],
   "source": [
    "def add_emps(emp_list):\n",
    "    result = collection.insert_many(emp_list)\n",
    "    return result.inserted_ids\n",
    "\n",
    "print(\"Inserted IDs:\", add_emps(employees))"
   ]
  },
  {
   "cell_type": "code",
   "execution_count": 101,
   "id": "6e4fa022-4dc6-4fab-b993-754267ac52f4",
   "metadata": {},
   "outputs": [],
   "source": [
    "def del_emp(emp_list):\n",
    "    for emp in emp_list:\n",
    "        result = collection.delete_many(emp)\n",
    "\n",
    "del_emp(employees)"
   ]
  },
  {
   "cell_type": "markdown",
   "id": "4d2a3538-596c-498d-8c1f-0edd6e2422b3",
   "metadata": {},
   "source": [
    "## Input Validation: Validate data before insertion"
   ]
  },
  {
   "cell_type": "code",
   "execution_count": 109,
   "id": "64a7efe1-bf2a-4655-a520-8c968aaeb0a4",
   "metadata": {},
   "outputs": [],
   "source": [
    "def validate_employee(emp: dict):\n",
    "    required = [\"name\", \"email\", \"department\", \"salary\", \"join_date\"]\n",
    "\n",
    "    for field in required:\n",
    "        if field not in emp:\n",
    "            raise \"PLese Enter all inputs\"\n",
    "\n",
    "    if not isinstance(emp[\"salary\"], int) or emp[\"salary\"] <= 0:\n",
    "        raise ValueError(\"Salary must be a positive integer\")\n",
    "        return True\n",
    "\n"
   ]
  },
  {
   "cell_type": "markdown",
   "id": "6e9656b8-930c-416b-87e3-4bab002cb049",
   "metadata": {},
   "source": [
    "## Duplicate Prevention: Prevent duplicate email addresses"
   ]
  },
  {
   "cell_type": "code",
   "execution_count": 107,
   "id": "ab5e7253-c7a7-49f2-99be-2896e487a595",
   "metadata": {},
   "outputs": [
    {
     "name": "stdout",
     "output_type": "stream",
     "text": [
      "68c4051507ffff4cc7a94048\n"
     ]
    }
   ],
   "source": [
    "emp1 = {\n",
    "        \"name\": \"Member_11\",\n",
    "        \"email\": \"member112@shipdelight.com\",\n",
    "        \"department\": \"Marketing\",\n",
    "        \"salary\": 75000,\n",
    "        \"join_date\": datetime(2021, 3, 15),\n",
    "        \"created_at\": datetime.utcnow()\n",
    "    }\n",
    "\n",
    "def insert_unique_employee(emp: dict):\n",
    "    if collection.find_one({\"email\": emp[\"email\"]}):\n",
    "        print(\"Email already exist\" )\n",
    "        return None\n",
    "    result = collection.insert_one(emp)\n",
    "    return result.inserted_id\n",
    "\n",
    "print(insert_unique_employee(emp1))"
   ]
  },
  {
   "cell_type": "markdown",
   "id": "93884ab1-5f50-41a4-bd8b-737764275b11",
   "metadata": {},
   "source": [
    "## Task -4\n",
    "## Implement various update operations with different scenarios.\n",
    "### Requirements\n",
    "* Update Single Field: Update one field of an employee\n",
    "* Update Multiple Fields: Update several fields at once\n",
    "* Update by ID: Update employee using ObjectId\n",
    "* Update by Criteria: Update multiple employees matching criteria\n",
    "* Conditional Updates: Update only if certain conditions are met\n",
    "* Add Modification Timestamp: Track when record was last modified"
   ]
  },
  {
   "cell_type": "markdown",
   "id": "976eaae3-a8ae-49d3-9aff-d2856f8ebfa0",
   "metadata": {},
   "source": [
    "## Update Single Field: Update one field of an employee"
   ]
  },
  {
   "cell_type": "code",
   "execution_count": 64,
   "id": "29afd3b9-91df-4a3c-9866-30b3ff567469",
   "metadata": {},
   "outputs": [
    {
     "name": "stdout",
     "output_type": "stream",
     "text": [
      "{'_id': ObjectId('68c3c79107ffff4cc7a9403c'), 'name': 'Advait', 'email': 'advait.patil@shipdelight.com', 'department': 'IT', 'salary': 80000, 'join_date': datetime.datetime(2025, 9, 8, 0, 0)}\n"
     ]
    }
   ],
   "source": [
    "from pymongo import ReturnDocument\n",
    "\n",
    "result = collection.find_one_and_update(\n",
    "    {\"name\": \"Advait\"},\n",
    "    {\"$set\": {\"salary\": 80000}},\n",
    "    return_document=ReturnDocument.AFTER\n",
    ")\n",
    "\n",
    "print(result)\n"
   ]
  },
  {
   "cell_type": "markdown",
   "id": "e4272956-e01b-4512-aa37-4767cfee478c",
   "metadata": {},
   "source": [
    "## Update Multiple Fields: Update several fields at once"
   ]
  },
  {
   "cell_type": "code",
   "execution_count": 65,
   "id": "10b86834-f4c1-41b1-8138-6b371b36c680",
   "metadata": {},
   "outputs": [
    {
     "name": "stdout",
     "output_type": "stream",
     "text": [
      "{'_id': ObjectId('68c3c79107ffff4cc7a9403d'), 'name': 'member_1', 'email': 'member_1.patil@shipdelight.com', 'department': 'Operations', 'salary': 65000, 'join_date': datetime.datetime(2024, 5, 22, 0, 0)}\n"
     ]
    }
   ],
   "source": [
    "result = collection.find_one_and_update(\n",
    "    {\"name\": \"member_1\"},\n",
    "    {\"$set\": {\"department\": \"Operations\", \"salary\": 65000}},\n",
    "    return_document=ReturnDocument.AFTER\n",
    ")\n",
    "\n",
    "print(result)"
   ]
  },
  {
   "cell_type": "markdown",
   "id": "0c01249d-a517-4b23-9f6c-b810a649a1a9",
   "metadata": {},
   "source": [
    "## Update by ID: Update employee using ObjectId"
   ]
  },
  {
   "cell_type": "code",
   "execution_count": 66,
   "id": "85b9c638-bcbb-4365-b164-ab3fed64e3f8",
   "metadata": {},
   "outputs": [
    {
     "name": "stdin",
     "output_type": "stream",
     "text": [
      "Enter ObjectId 68c3c79107ffff4cc7a9403d\n"
     ]
    },
    {
     "name": "stdout",
     "output_type": "stream",
     "text": [
      "{'_id': ObjectId('68c3c79107ffff4cc7a9403d'), 'name': 'member_1', 'email': 'member_1.patil@shipdelight.com', 'department': 'Operations', 'salary': 80000, 'join_date': datetime.datetime(2024, 5, 22, 0, 0)}\n"
     ]
    }
   ],
   "source": [
    "from bson import ObjectId\n",
    "\n",
    "emp_id = input(\"Enter ObjectId\")\n",
    "\n",
    "result = collection.find_one_and_update(\n",
    "    {\"_id\": ObjectId(emp_id)},\n",
    "    {\"$set\": {\"salary\": 80000}},\n",
    "    return_document=ReturnDocument.AFTER\n",
    ")\n",
    "print(result)\n"
   ]
  },
  {
   "cell_type": "markdown",
   "id": "43a69abd-90fb-4efc-aadf-6d1832ad3f9f",
   "metadata": {},
   "source": [
    "## Update by Criteria: Update multiple employees matching criteria"
   ]
  },
  {
   "cell_type": "code",
   "execution_count": 75,
   "id": "54246c9c-9543-4c81-9edc-0fc4bf9c8319",
   "metadata": {},
   "outputs": [
    {
     "name": "stdout",
     "output_type": "stream",
     "text": [
      "Matched Records: 2 Modified Records: 2\n"
     ]
    }
   ],
   "source": [
    "result = collection.update_many(\n",
    "    {\"department\": \"IT\"},\n",
    "    {\"$inc\": {\"salary\": 5000}}\n",
    ")\n",
    "\n",
    "print(\"Matched Records:\", result.matched_count, \"Modified Records:\", result.modified_count)\n"
   ]
  },
  {
   "cell_type": "markdown",
   "id": "4079a895-12ac-4607-8096-8e3f0b4ec9b6",
   "metadata": {},
   "source": [
    "## Conditional Updates: Update only if certain conditions are met"
   ]
  },
  {
   "cell_type": "code",
   "execution_count": 71,
   "id": "03db9f34-2d5d-4f0a-afc5-8db43694d168",
   "metadata": {},
   "outputs": [
    {
     "name": "stdout",
     "output_type": "stream",
     "text": [
      "UpdateResult({'n': 2, 'nModified': 0, 'ok': 1.0, 'updatedExisting': True}, acknowledged=True)\n"
     ]
    }
   ],
   "source": [
    "result = collection.update_many(\n",
    "    {\"salary\": {\"$lt\": 50000}},\n",
    "    {\"$set\": {\"department\": \"Training\"}}\n",
    ")\n",
    "\n",
    "print(result)"
   ]
  },
  {
   "cell_type": "markdown",
   "id": "c6ac460b-f299-41c1-a284-1f59f9138527",
   "metadata": {},
   "source": [
    "## Add Modification Timestamp: Track when record was last modified"
   ]
  },
  {
   "cell_type": "code",
   "execution_count": 73,
   "id": "90cd4639-2680-4dd2-a95d-673de9dcb156",
   "metadata": {},
   "outputs": [
    {
     "name": "stdout",
     "output_type": "stream",
     "text": [
      "Matched Records: 1 Modified Records: 1\n"
     ]
    },
    {
     "name": "stderr",
     "output_type": "stream",
     "text": [
      "C:\\Users\\Advait Patil\\AppData\\Local\\Temp\\ipykernel_22496\\3948091559.py:5: DeprecationWarning: datetime.datetime.utcnow() is deprecated and scheduled for removal in a future version. Use timezone-aware objects to represent datetimes in UTC: datetime.datetime.now(datetime.UTC).\n",
      "  {\"$set\": {\"salary\": 52000, \"last_modified\": datetime.utcnow()}}\n"
     ]
    }
   ],
   "source": [
    "from datetime import datetime\n",
    "\n",
    "result = collection.update_one(\n",
    "    {\"name\": \"Advait\"},\n",
    "    {\"$set\": {\"salary\": 52000, \"last_modified\": datetime.utcnow()}}\n",
    ")\n",
    "\n",
    "print(\"Matched Records:\", result.matched_count, \"Modified Records:\", result.modified_count)\n"
   ]
  },
  {
   "cell_type": "code",
   "execution_count": null,
   "id": "c88ac013-020b-43bb-8461-23fafc000f6c",
   "metadata": {},
   "outputs": [],
   "source": []
  }
 ],
 "metadata": {
  "kernelspec": {
   "display_name": "Python 3 (ipykernel)",
   "language": "python",
   "name": "python3"
  },
  "language_info": {
   "codemirror_mode": {
    "name": "ipython",
    "version": 3
   },
   "file_extension": ".py",
   "mimetype": "text/x-python",
   "name": "python",
   "nbconvert_exporter": "python",
   "pygments_lexer": "ipython3",
   "version": "3.13.5"
  }
 },
 "nbformat": 4,
 "nbformat_minor": 5
}
